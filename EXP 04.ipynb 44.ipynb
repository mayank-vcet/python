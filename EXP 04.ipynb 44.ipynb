{
  "cells": [
    {
      "cell_type": "markdown",
      "id": "528a3209-d814-4fe2-b5c4-c8424f703603",
      "metadata": {},
      "source": [
        "** Mayank Patil**\n",
        "s2-44"
      ]
    },
    {
      "cell_type": "code",
      "execution_count": null,
      "id": "b66cb432-a700-47a0-85ca-42ffcf4fd626",
      "metadata": {
        "trusted": true
      },
      "outputs": [],
      "source": [
        "from pathlib import Path\n",
        " \n",
        "# Get the current directory\n",
        "current_directory = Path('.')\n",
        "\n",
        "# List only files in the current directory\n",
        "files = [f for f in current_directory.iterdir() if f.is_file()]\n",
        "\n",
        "print(\"Files in the current directory:\")\n",
        "for file in files:\n",
        "    print(file.name)\n"
      ]
    },
    {
      "cell_type": "code",
      "execution_count": null,
      "id": "d11ab04a-162f-4db2-a707-9dcdc20d4d43",
      "metadata": {
        "trusted": true
      },
      "outputs": [],
      "source": []
    }
  ],
  "metadata": {
    "kernelspec": {
      "display_name": "Python (Pyodide)",
      "language": "python",
      "name": "python"
    },
    "language_info": {
      "codemirror_mode": {
        "name": "python",
        "version": 3
      },
      "file_extension": ".py",
      "mimetype": "text/x-python",
      "name": "python",
      "nbconvert_exporter": "python",
      "pygments_lexer": "ipython3",
      "version": "3.8"
    }
  },
  "nbformat": 4,
  "nbformat_minor": 5
}
