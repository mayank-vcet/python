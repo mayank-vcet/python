{
 "cells": [
  {
   "cell_type": "markdown",
   "id": "900da54b-c7d6-4209-bb07-4f87a4068682",
   "metadata": {},
   "source": [
    "**Mayank patil S2-44"
   ]
  },
  {
   "cell_type": "code",
   "execution_count": 1,
   "id": "7a73128b-f4a5-4bfc-885a-5b961b90aa73",
   "metadata": {},
   "outputs": [
    {
     "name": "stdout",
     "output_type": "stream",
     "text": [
      "Initial Stack\n",
      "['a', 'b', 'c']\n"
     ]
    }
   ],
   "source": [
    "stack = list ()\n",
    "\n",
    "# Append Operation\n",
    "stack.append ('a')\n",
    "stack.append ('b')\n",
    "stack.append ('c')\n",
    "print ('Initial Stack')\n",
    "print (stack)"
   ]
  },
  {
   "cell_type": "code",
   "execution_count": 2,
   "id": "53d9fe18-9d98-4634-8f57-71bff4d05bd2",
   "metadata": {},
   "outputs": [
    {
     "name": "stdout",
     "output_type": "stream",
     "text": [
      "c\n",
      "b\n",
      "a\n",
      "[]\n"
     ]
    }
   ],
   "source": [
    "# Pop Operation\n",
    "print (stack.pop ())\n",
    "print (stack.pop ())\n",
    "print (stack.pop ())\n",
    "print (stack)"
   ]
  },
  {
   "cell_type": "code",
   "execution_count": null,
   "id": "7f5a83ca-a2ba-4ca5-9f2c-d78d59c09f03",
   "metadata": {},
   "outputs": [],
   "source": [
    "'''\n",
    "Given a valid parentheses string stringInput, return the nesting depth of stringInput.\n",
    "The nesting depth is the maximum number of nested parentheses.\n",
    "\n",
    "Example 1:\n",
    "Input: s = \"(1+(2*3)+((8)/4))+1\"\n",
    "Output: 3\n",
    "Explanation:\n",
    "Digit 8 is inside of 3 nested parentheses in the string.\n",
    "\n",
    "Example 2:\n",
    "Input: s = \"(1)+((2))+(((3)))\"\n",
    "Output: 3\n",
    "Explanation:\n",
    "Digit 3 is inside of 3 nested parentheses in the string.\n",
    "\n",
    "Example 3:\n",
    "Input: s = \"()(())((()()))\"\n",
    "Output: 3\n",
    "'''"
   ]
  },
  {
   "cell_type": "code",
   "execution_count": 4,
   "id": "009fb386-8677-43cb-bb50-b78fd6018f79",
   "metadata": {},
   "outputs": [
    {
     "name": "stdout",
     "output_type": "stream",
     "text": [
      "4\n",
      "2\n",
      "9\n"
     ]
    }
   ],
   "source": [
    "class StackDepth:\n",
    "    def maximumDepth(self, stringInput: str) -> int:\n",
    "        current_depth = 0\n",
    "        max_depth = 0\n",
    "        \n",
    "        for char in stringInput:\n",
    "            if char == '(':\n",
    "                current_depth += 1\n",
    "                max_depth = max(max_depth, current_depth)\n",
    "            elif char == ')':\n",
    "                current_depth -= 1\n",
    "        \n",
    "        return max_depth\n",
    "\n",
    "stack_depth = StackDepth()\n",
    "\n",
    "print(stack_depth.maximumDepth(\"(a+(b+(c+(d))))\"))  \n",
    "print(stack_depth.maximumDepth(\"(())\"))\n",
    "print(stack_depth.maximumDepth(\"((((((((()))))))))\"))"
   ]
  },
  {
   "cell_type": "code",
   "execution_count": null,
   "id": "9e5f72fe-477f-426f-b8c0-68e5e55fd92c",
   "metadata": {},
   "outputs": [],
   "source": []
  }
 ],
 "metadata": {
  "kernelspec": {
   "display_name": "Python 3 (ipykernel)",
   "language": "python",
   "name": "python3"
  },
  "language_info": {
   "codemirror_mode": {
    "name": "ipython",
    "version": 3
   },
   "file_extension": ".py",
   "mimetype": "text/x-python",
   "name": "python",
   "nbconvert_exporter": "python",
   "pygments_lexer": "ipython3",
   "version": "3.12.5"
  }
 },
 "nbformat": 4,
 "nbformat_minor": 5
}
